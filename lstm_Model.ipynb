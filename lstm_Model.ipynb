{
 "cells": [
  {
   "cell_type": "markdown",
   "metadata": {},
   "source": [
    "## Getting and Visualizing the Stock Prices <a id=\"data\">"
   ]
  },
  {
   "cell_type": "code",
   "execution_count": null,
   "metadata": {},
   "outputs": [],
   "source": [
    "import numpy as np\n",
    "import pandas as pd\n",
    "import yfinance as yf\n",
    "import datetime as dt\n",
    "from indicators import *\n",
    "from tensorflow import keras\n",
    "import matplotlib.pyplot as plt\n",
    "from dateutil.relativedelta import relativedelta\n",
    "from sklearn.preprocessing import StandardScaler"
   ]
  },
  {
   "cell_type": "code",
   "execution_count": null,
   "metadata": {},
   "outputs": [],
   "source": [
    "#storing the symbols, starting and ending dates for training\n",
    "ticker = \"GOOG\"\n",
    "n_years = 10\n",
    "end_date =  dt.datetime.today()\n",
    "start_date = end_date - relativedelta(years=n_years)"
   ]
  },
  {
   "cell_type": "code",
   "execution_count": null,
   "metadata": {},
   "outputs": [],
   "source": [
    "#creating a list with the input symbol and \"SPY\" to pull in all days the stock market was open\n",
    "symbols = [ticker, \"SPY\"]\n",
    "\n",
    "#reading in the stock data (using adjusted stock prices to account for stock splits)\n",
    "df = yf.download(symbols, start=start_date, end=end_date, auto_adjust=True)\n",
    "\n",
    "df.head()"
   ]
  },
  {
   "cell_type": "code",
   "execution_count": null,
   "metadata": {},
   "outputs": [],
   "source": [
    "#only keeping Adjusted Closing Stock Price for Google\n",
    "prices = df['Close'].filter(items=[ticker], axis=1)\n",
    "\n",
    "#forward and back filling missing prices \n",
    "prices.fillna(method='ffill', inplace=True) #forward-filling missing prices\n",
    "prices.fillna(method='bfill', inplace=True) #back-filling missing prices\n",
    "\n",
    "prices.head()"
   ]
  },
  {
   "cell_type": "code",
   "execution_count": null,
   "metadata": {
    "scrolled": true
   },
   "outputs": [],
   "source": [
    "#plotting the adjusted closing prices\n",
    "prices.plot()\n",
    "plt.title(\"{} Adjusted Closing Prices for last {} Years\".format(ticker,n_years))\n",
    "plt.ylabel(\"Price\")\n",
    "plt.show()"
   ]
  },
  {
   "cell_type": "markdown",
   "metadata": {},
   "source": [
    "## Creating the Features <a id=\"features\">"
   ]
  },
  {
   "cell_type": "code",
   "execution_count": null,
   "metadata": {},
   "outputs": [],
   "source": [
    "#indicator functions\n",
    "def generate_indicators(prices, n):\n",
    "    #generating price Simple Moving Average ratio\n",
    "    price_sma_df = price_sma_ratio(prices, n)\n",
    "\n",
    "    #generating the Bollinger Bands indicator\n",
    "    bb_df = bollinger_bands(prices, n)\n",
    "\n",
    "    #generating the volatility indicator\n",
    "    vol_df = volatility(prices, n)\n",
    "    \n",
    "    #creating features dataframe for training the regressor\n",
    "    indicator_names = [\"Price/SMA\", \"Bollinger Bands\", \"Volatility\"]\n",
    "    indicators_df = price_sma_df.join(bb_df,rsuffix=\"1\") \\\n",
    "                                .join(vol_df,rsuffix=\"2\")\n",
    "    indicators_df.columns = indicator_names\n",
    "\n",
    "    #adding column for the closing price one day prior\n",
    "    indicators_df[\"Previous Price\"] = prices.shift(1).values\n",
    "\n",
    "    #backfilling indicators\n",
    "    indicators_df.fillna(method='bfill', inplace=True)\n",
    "    \n",
    "    return indicators_df"
   ]
  },
  {
   "cell_type": "code",
   "execution_count": null,
   "metadata": {},
   "outputs": [],
   "source": [
    "#splitting the prices into train and test sets\n",
    "ss = StandardScaler()\n",
    "cutoff_idx = int(prices.shape[0] * 0.8)\n",
    "y_train = pd.DataFrame(ss.fit_transform(prices[:cutoff_idx]),index=prices.index[:cutoff_idx], columns=[ticker])\n",
    "y_test = pd.DataFrame(ss.fit_transform(prices[cutoff_idx:]),index=prices.index[cutoff_idx:], columns=[ticker])\n",
    "\n",
    "#generating the indicators\n",
    "n = 10\n",
    "x_train = generate_indicators(y_train, n)\n",
    "x_test = generate_indicators(y_test, n)\n",
    "\n",
    "x_train.head()"
   ]
  },
  {
   "cell_type": "markdown",
   "metadata": {},
   "source": [
    "## Creating the Model <a id=\"model\">"
   ]
  },
  {
   "cell_type": "code",
   "execution_count": null,
   "metadata": {},
   "outputs": [],
   "source": [
    "#initializing the model\n",
    "model = keras.Sequential([\n",
    "    keras.layers.Dense(128, input_dim=x_train.shape[1], activation='relu'), \n",
    "    keras.layers.Dropout(0.3),\n",
    "    keras.layers.Dense(32,activation='relu'),\n",
    "    keras.layers.Dropout(0.15),\n",
    "    keras.layers.Dense(1)   \n",
    "])"
   ]
  },
  {
   "cell_type": "code",
   "execution_count": null,
   "metadata": {},
   "outputs": [],
   "source": [
    "#printing the model summary\n",
    "model.summary()"
   ]
  },
  {
   "cell_type": "code",
   "execution_count": null,
   "metadata": {},
   "outputs": [],
   "source": [
    "#compiling the model\n",
    "model.compile(optimizer='adam', loss='mean_squared_error', metrics=['mean_absolute_error'])"
   ]
  },
  {
   "cell_type": "code",
   "execution_count": null,
   "metadata": {
    "scrolled": true
   },
   "outputs": [],
   "source": [
    "history = model.fit(x_train, y_train, epochs=100)"
   ]
  },
  {
   "cell_type": "code",
   "execution_count": null,
   "metadata": {},
   "outputs": [],
   "source": [
    "model.evaluate(x_test, y_test)"
   ]
  },
  {
   "cell_type": "code",
   "execution_count": null,
   "metadata": {},
   "outputs": [],
   "source": [
    "#plotting the predicted and actual normalized test prices\n",
    "y_pred = model.predict(x_test)\n",
    "plt.plot(y_test.index, y_pred,  label=\"Predicted\")\n",
    "plt.plot(y_test.index, y_test, label=\"Actual\")\n",
    "plt.title(\"Predicted vs Actual Prices\")\n",
    "plt.ylabel(\"Normalized Price\")\n",
    "plt.xlabel(\"Date\")\n",
    "plt.legend()\n",
    "plt.show()"
   ]
  },
  {
   "cell_type": "code",
   "execution_count": null,
   "metadata": {},
   "outputs": [],
   "source": [
    "#calculating the Mean Absolute Error of the non-normalized prices\n",
    "pred_prices = ss.inverse_transform(y_pred)\n",
    "act_prices = prices[cutoff_idx:]\n",
    "abs_diff = np.abs(pred_prices.flatten() - act_prices.values)\n",
    "mae = np.mean(abs_diff)\n",
    "\n",
    "print(\"Mean Absolute Error of Stock Prices: ${:,.2f}\".format(mae))"
   ]
  }
 ],
 "metadata": {
  "kernelspec": {
   "display_name": "Python 3",
   "language": "python",
   "name": "python3"
  },
  "language_info": {
   "codemirror_mode": {
    "name": "ipython",
    "version": 3
   },
   "file_extension": ".py",
   "mimetype": "text/x-python",
   "name": "python",
   "nbconvert_exporter": "python",
   "pygments_lexer": "ipython3",
   "version": "3.11.1 (main, Dec 20 2022, 18:35:38) [Clang 14.0.0 (clang-1400.0.29.202)]"
  },
  "vscode": {
   "interpreter": {
    "hash": "757fb12e7680b236e73a5525bf449d50bfb1647e8e66a790b195a775ce1d4fde"
   }
  }
 },
 "nbformat": 4,
 "nbformat_minor": 2
}
