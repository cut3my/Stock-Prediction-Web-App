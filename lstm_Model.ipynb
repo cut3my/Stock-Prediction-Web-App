{
 "cells": [
  {
   "cell_type": "markdown",
   "metadata": {},
   "source": [
    "## Getting and Visualizing the Stock Prices <a id=\"data\">"
   ]
  },
  {
   "cell_type": "code",
   "execution_count": 1,
   "metadata": {},
   "outputs": [
    {
     "ename": "ImportError",
     "evalue": "Traceback (most recent call last):\n  File \"/Users/leejunyi/.pyenv/versions/3.11.1/lib/python3.11/site-packages/tensorflow/python/pywrap_tensorflow.py\", line 58, in <module>\n    from tensorflow.python.pywrap_tensorflow_internal import *\n  File \"/Users/leejunyi/.pyenv/versions/3.11.1/lib/python3.11/site-packages/tensorflow/python/pywrap_tensorflow_internal.py\", line 28, in <module>\n    _pywrap_tensorflow_internal = swig_import_helper()\n                                  ^^^^^^^^^^^^^^^^^^^^\n  File \"/Users/leejunyi/.pyenv/versions/3.11.1/lib/python3.11/site-packages/tensorflow/python/pywrap_tensorflow_internal.py\", line 24, in swig_import_helper\n    _mod = imp.load_module('_pywrap_tensorflow_internal', fp, pathname, description)\n           ^^^^^^^^^^^^^^^^^^^^^^^^^^^^^^^^^^^^^^^^^^^^^^^^^^^^^^^^^^^^^^^^^^^^^^^^^\n  File \"/Users/leejunyi/.pyenv/versions/3.11.1/lib/python3.11/imp.py\", line 243, in load_module\n    return load_dynamic(name, filename, file)\n           ^^^^^^^^^^^^^^^^^^^^^^^^^^^^^^^^^^\n  File \"/Users/leejunyi/.pyenv/versions/3.11.1/lib/python3.11/imp.py\", line 343, in load_dynamic\n    return _load(spec)\n           ^^^^^^^^^^^\nImportError: dlopen(/Users/leejunyi/.pyenv/versions/3.11.1/lib/python3.11/site-packages/tensorflow/python/_pywrap_tensorflow_internal.so, 0x0006): tried: '/Users/leejunyi/.pyenv/versions/3.11.1/lib/python3.11/site-packages/tensorflow/python/_pywrap_tensorflow_internal.so' (mach-o file, but is an incompatible architecture (have 'x86_64', need 'arm64')), '/System/Volumes/Preboot/Cryptexes/OS/Users/leejunyi/.pyenv/versions/3.11.1/lib/python3.11/site-packages/tensorflow/python/_pywrap_tensorflow_internal.so' (no such file), '/Users/leejunyi/.pyenv/versions/3.11.1/lib/python3.11/site-packages/tensorflow/python/_pywrap_tensorflow_internal.so' (mach-o file, but is an incompatible architecture (have 'x86_64', need 'arm64'))\n\n\nFailed to load the native TensorFlow runtime.\n\nSee https://www.tensorflow.org/install/errors\n\nfor some common reasons and solutions.  Include the entire stack trace\nabove this error message when asking for help.",
     "output_type": "error",
     "traceback": [
      "\u001b[0;31m---------------------------------------------------------------------------\u001b[0m",
      "\u001b[0;31mImportError\u001b[0m                               Traceback (most recent call last)",
      "File \u001b[0;32m~/.pyenv/versions/3.11.1/lib/python3.11/site-packages/tensorflow/python/pywrap_tensorflow.py:58\u001b[0m\n\u001b[1;32m     56\u001b[0m   sys\u001b[39m.\u001b[39msetdlopenflags(_default_dlopen_flags \u001b[39m|\u001b[39m ctypes\u001b[39m.\u001b[39mRTLD_LOCAL)\n\u001b[0;32m---> 58\u001b[0m \u001b[39mfrom\u001b[39;00m \u001b[39mtensorflow\u001b[39;00m\u001b[39m.\u001b[39;00m\u001b[39mpython\u001b[39;00m\u001b[39m.\u001b[39;00m\u001b[39mpywrap_tensorflow_internal\u001b[39;00m \u001b[39mimport\u001b[39;00m \u001b[39m*\u001b[39m\n\u001b[1;32m     59\u001b[0m \u001b[39mfrom\u001b[39;00m \u001b[39mtensorflow\u001b[39;00m\u001b[39m.\u001b[39;00m\u001b[39mpython\u001b[39;00m\u001b[39m.\u001b[39;00m\u001b[39mpywrap_tensorflow_internal\u001b[39;00m \u001b[39mimport\u001b[39;00m __version__\n",
      "File \u001b[0;32m~/.pyenv/versions/3.11.1/lib/python3.11/site-packages/tensorflow/python/pywrap_tensorflow_internal.py:28\u001b[0m\n\u001b[1;32m     27\u001b[0m         \u001b[39mreturn\u001b[39;00m _mod\n\u001b[0;32m---> 28\u001b[0m _pywrap_tensorflow_internal \u001b[39m=\u001b[39m swig_import_helper()\n\u001b[1;32m     29\u001b[0m \u001b[39mdel\u001b[39;00m swig_import_helper\n",
      "File \u001b[0;32m~/.pyenv/versions/3.11.1/lib/python3.11/site-packages/tensorflow/python/pywrap_tensorflow_internal.py:24\u001b[0m, in \u001b[0;36mswig_import_helper\u001b[0;34m()\u001b[0m\n\u001b[1;32m     23\u001b[0m \u001b[39mtry\u001b[39;00m:\n\u001b[0;32m---> 24\u001b[0m     _mod \u001b[39m=\u001b[39m imp\u001b[39m.\u001b[39;49mload_module(\u001b[39m'\u001b[39;49m\u001b[39m_pywrap_tensorflow_internal\u001b[39;49m\u001b[39m'\u001b[39;49m, fp, pathname, description)\n\u001b[1;32m     25\u001b[0m \u001b[39mfinally\u001b[39;00m:\n",
      "File \u001b[0;32m~/.pyenv/versions/3.11.1/lib/python3.11/imp.py:243\u001b[0m, in \u001b[0;36mload_module\u001b[0;34m(name, file, filename, details)\u001b[0m\n\u001b[1;32m    242\u001b[0m     \u001b[39melse\u001b[39;00m:\n\u001b[0;32m--> 243\u001b[0m         \u001b[39mreturn\u001b[39;00m load_dynamic(name, filename, file)\n\u001b[1;32m    244\u001b[0m \u001b[39melif\u001b[39;00m type_ \u001b[39m==\u001b[39m PKG_DIRECTORY:\n",
      "File \u001b[0;32m~/.pyenv/versions/3.11.1/lib/python3.11/imp.py:343\u001b[0m, in \u001b[0;36mload_dynamic\u001b[0;34m(name, path, file)\u001b[0m\n\u001b[1;32m    341\u001b[0m spec \u001b[39m=\u001b[39m importlib\u001b[39m.\u001b[39mmachinery\u001b[39m.\u001b[39mModuleSpec(\n\u001b[1;32m    342\u001b[0m     name\u001b[39m=\u001b[39mname, loader\u001b[39m=\u001b[39mloader, origin\u001b[39m=\u001b[39mpath)\n\u001b[0;32m--> 343\u001b[0m \u001b[39mreturn\u001b[39;00m _load(spec)\n",
      "\u001b[0;31mImportError\u001b[0m: dlopen(/Users/leejunyi/.pyenv/versions/3.11.1/lib/python3.11/site-packages/tensorflow/python/_pywrap_tensorflow_internal.so, 0x0006): tried: '/Users/leejunyi/.pyenv/versions/3.11.1/lib/python3.11/site-packages/tensorflow/python/_pywrap_tensorflow_internal.so' (mach-o file, but is an incompatible architecture (have 'x86_64', need 'arm64')), '/System/Volumes/Preboot/Cryptexes/OS/Users/leejunyi/.pyenv/versions/3.11.1/lib/python3.11/site-packages/tensorflow/python/_pywrap_tensorflow_internal.so' (no such file), '/Users/leejunyi/.pyenv/versions/3.11.1/lib/python3.11/site-packages/tensorflow/python/_pywrap_tensorflow_internal.so' (mach-o file, but is an incompatible architecture (have 'x86_64', need 'arm64'))",
      "\nDuring handling of the above exception, another exception occurred:\n",
      "\u001b[0;31mImportError\u001b[0m                               Traceback (most recent call last)",
      "Cell \u001b[0;32mIn[1], line 6\u001b[0m\n\u001b[1;32m      4\u001b[0m \u001b[39mimport\u001b[39;00m \u001b[39mdatetime\u001b[39;00m \u001b[39mas\u001b[39;00m \u001b[39mdt\u001b[39;00m\n\u001b[1;32m      5\u001b[0m \u001b[39mfrom\u001b[39;00m \u001b[39mindicators\u001b[39;00m \u001b[39mimport\u001b[39;00m \u001b[39m*\u001b[39m\n\u001b[0;32m----> 6\u001b[0m \u001b[39mfrom\u001b[39;00m \u001b[39mtensorflow\u001b[39;00m \u001b[39mimport\u001b[39;00m keras\n\u001b[1;32m      7\u001b[0m \u001b[39mimport\u001b[39;00m \u001b[39mmatplotlib\u001b[39;00m\u001b[39m.\u001b[39;00m\u001b[39mpyplot\u001b[39;00m \u001b[39mas\u001b[39;00m \u001b[39mplt\u001b[39;00m\n\u001b[1;32m      8\u001b[0m \u001b[39mfrom\u001b[39;00m \u001b[39mdateutil\u001b[39;00m\u001b[39m.\u001b[39;00m\u001b[39mrelativedelta\u001b[39;00m \u001b[39mimport\u001b[39;00m relativedelta\n",
      "File \u001b[0;32m~/.pyenv/versions/3.11.1/lib/python3.11/site-packages/tensorflow/__init__.py:24\u001b[0m\n\u001b[1;32m     21\u001b[0m \u001b[39mimport\u001b[39;00m \u001b[39mos\u001b[39;00m \u001b[39mas\u001b[39;00m \u001b[39m_os\u001b[39;00m\n\u001b[1;32m     23\u001b[0m \u001b[39m# pylint: disable=g-bad-import-order\u001b[39;00m\n\u001b[0;32m---> 24\u001b[0m \u001b[39mfrom\u001b[39;00m \u001b[39mtensorflow\u001b[39;00m\u001b[39m.\u001b[39;00m\u001b[39mpython\u001b[39;00m \u001b[39mimport\u001b[39;00m pywrap_tensorflow  \u001b[39m# pylint: disable=unused-import\u001b[39;00m\n\u001b[1;32m     26\u001b[0m \u001b[39mtry\u001b[39;00m:\n\u001b[1;32m     27\u001b[0m   \u001b[39m# Add `estimator` attribute to allow access to estimator APIs via\u001b[39;00m\n\u001b[1;32m     28\u001b[0m   \u001b[39m# \"tf.estimator...\"\u001b[39;00m\n\u001b[1;32m     29\u001b[0m   \u001b[39mfrom\u001b[39;00m \u001b[39mtensorflow\u001b[39;00m\u001b[39m.\u001b[39;00m\u001b[39mpython\u001b[39;00m\u001b[39m.\u001b[39;00m\u001b[39mestimator\u001b[39;00m\u001b[39m.\u001b[39;00m\u001b[39mapi\u001b[39;00m \u001b[39mimport\u001b[39;00m estimator  \u001b[39m# pylint: disable=g-import-not-at-top\u001b[39;00m\n",
      "File \u001b[0;32m~/.pyenv/versions/3.11.1/lib/python3.11/site-packages/tensorflow/python/__init__.py:49\u001b[0m\n\u001b[1;32m     32\u001b[0m \u001b[39m# TODO(drpng): write up instructions for editing this file in a doc and point to\u001b[39;00m\n\u001b[1;32m     33\u001b[0m \u001b[39m# the doc instead.\u001b[39;00m\n\u001b[1;32m     34\u001b[0m \u001b[39m# If you want to edit this file to expose modules in public tensorflow API, you\u001b[39;00m\n\u001b[0;32m   (...)\u001b[0m\n\u001b[1;32m     44\u001b[0m \u001b[39m# go/tf-wildcard-import\u001b[39;00m\n\u001b[1;32m     45\u001b[0m \u001b[39m# pylint: disable=wildcard-import,g-bad-import-order,g-import-not-at-top\u001b[39;00m\n\u001b[1;32m     47\u001b[0m \u001b[39mimport\u001b[39;00m \u001b[39mnumpy\u001b[39;00m \u001b[39mas\u001b[39;00m \u001b[39mnp\u001b[39;00m\n\u001b[0;32m---> 49\u001b[0m \u001b[39mfrom\u001b[39;00m \u001b[39mtensorflow\u001b[39;00m\u001b[39m.\u001b[39;00m\u001b[39mpython\u001b[39;00m \u001b[39mimport\u001b[39;00m pywrap_tensorflow\n\u001b[1;32m     51\u001b[0m \u001b[39mfrom\u001b[39;00m \u001b[39mtensorflow\u001b[39;00m\u001b[39m.\u001b[39;00m\u001b[39mpython\u001b[39;00m\u001b[39m.\u001b[39;00m\u001b[39mtools\u001b[39;00m \u001b[39mimport\u001b[39;00m component_api_helper\n\u001b[1;32m     52\u001b[0m component_api_helper\u001b[39m.\u001b[39mpackage_hook(\n\u001b[1;32m     53\u001b[0m     parent_package_str\u001b[39m=\u001b[39m\u001b[39m'\u001b[39m\u001b[39mtensorflow.python\u001b[39m\u001b[39m'\u001b[39m,\n\u001b[1;32m     54\u001b[0m     child_package_str\u001b[39m=\u001b[39m(\n\u001b[1;32m     55\u001b[0m         \u001b[39m'\u001b[39m\u001b[39mtensorflow_estimator.python.estimator\u001b[39m\u001b[39m'\u001b[39m))\n",
      "File \u001b[0;32m~/.pyenv/versions/3.11.1/lib/python3.11/site-packages/tensorflow/python/pywrap_tensorflow.py:74\u001b[0m\n\u001b[1;32m     69\u001b[0m \u001b[39mexcept\u001b[39;00m \u001b[39mImportError\u001b[39;00m:\n\u001b[1;32m     70\u001b[0m   msg \u001b[39m=\u001b[39m \u001b[39m\"\"\"\u001b[39m\u001b[39m%s\u001b[39;00m\u001b[39m\\n\u001b[39;00m\u001b[39m\\n\u001b[39;00m\u001b[39mFailed to load the native TensorFlow runtime.\u001b[39m\u001b[39m\\n\u001b[39;00m\n\u001b[1;32m     71\u001b[0m \u001b[39mSee https://www.tensorflow.org/install/errors\u001b[39m\u001b[39m\\n\u001b[39;00m\n\u001b[1;32m     72\u001b[0m \u001b[39mfor some common reasons and solutions.  Include the entire stack trace\u001b[39m\n\u001b[1;32m     73\u001b[0m \u001b[39mabove this error message when asking for help.\u001b[39m\u001b[39m\"\"\"\u001b[39m \u001b[39m%\u001b[39m traceback\u001b[39m.\u001b[39mformat_exc()\n\u001b[0;32m---> 74\u001b[0m   \u001b[39mraise\u001b[39;00m \u001b[39mImportError\u001b[39;00m(msg)\n\u001b[1;32m     76\u001b[0m \u001b[39m# pylint: enable=wildcard-import,g-import-not-at-top,unused-import,line-too-long\u001b[39;00m\n",
      "\u001b[0;31mImportError\u001b[0m: Traceback (most recent call last):\n  File \"/Users/leejunyi/.pyenv/versions/3.11.1/lib/python3.11/site-packages/tensorflow/python/pywrap_tensorflow.py\", line 58, in <module>\n    from tensorflow.python.pywrap_tensorflow_internal import *\n  File \"/Users/leejunyi/.pyenv/versions/3.11.1/lib/python3.11/site-packages/tensorflow/python/pywrap_tensorflow_internal.py\", line 28, in <module>\n    _pywrap_tensorflow_internal = swig_import_helper()\n                                  ^^^^^^^^^^^^^^^^^^^^\n  File \"/Users/leejunyi/.pyenv/versions/3.11.1/lib/python3.11/site-packages/tensorflow/python/pywrap_tensorflow_internal.py\", line 24, in swig_import_helper\n    _mod = imp.load_module('_pywrap_tensorflow_internal', fp, pathname, description)\n           ^^^^^^^^^^^^^^^^^^^^^^^^^^^^^^^^^^^^^^^^^^^^^^^^^^^^^^^^^^^^^^^^^^^^^^^^^\n  File \"/Users/leejunyi/.pyenv/versions/3.11.1/lib/python3.11/imp.py\", line 243, in load_module\n    return load_dynamic(name, filename, file)\n           ^^^^^^^^^^^^^^^^^^^^^^^^^^^^^^^^^^\n  File \"/Users/leejunyi/.pyenv/versions/3.11.1/lib/python3.11/imp.py\", line 343, in load_dynamic\n    return _load(spec)\n           ^^^^^^^^^^^\nImportError: dlopen(/Users/leejunyi/.pyenv/versions/3.11.1/lib/python3.11/site-packages/tensorflow/python/_pywrap_tensorflow_internal.so, 0x0006): tried: '/Users/leejunyi/.pyenv/versions/3.11.1/lib/python3.11/site-packages/tensorflow/python/_pywrap_tensorflow_internal.so' (mach-o file, but is an incompatible architecture (have 'x86_64', need 'arm64')), '/System/Volumes/Preboot/Cryptexes/OS/Users/leejunyi/.pyenv/versions/3.11.1/lib/python3.11/site-packages/tensorflow/python/_pywrap_tensorflow_internal.so' (no such file), '/Users/leejunyi/.pyenv/versions/3.11.1/lib/python3.11/site-packages/tensorflow/python/_pywrap_tensorflow_internal.so' (mach-o file, but is an incompatible architecture (have 'x86_64', need 'arm64'))\n\n\nFailed to load the native TensorFlow runtime.\n\nSee https://www.tensorflow.org/install/errors\n\nfor some common reasons and solutions.  Include the entire stack trace\nabove this error message when asking for help."
     ]
    }
   ],
   "source": [
    "import numpy as np\n",
    "import pandas as pd\n",
    "import yfinance as yf\n",
    "import datetime as dt\n",
    "from indicators import *\n",
    "from tensorflow import keras\n",
    "import matplotlib.pyplot as plt\n",
    "from dateutil.relativedelta import relativedelta\n",
    "from sklearn.preprocessing import StandardScaler"
   ]
  },
  {
   "cell_type": "code",
   "execution_count": null,
   "metadata": {},
   "outputs": [],
   "source": [
    "#storing the symbols, starting and ending dates for training\n",
    "ticker = \"GOOG\"\n",
    "n_years = 10\n",
    "end_date =  dt.datetime.today()\n",
    "start_date = end_date - relativedelta(years=n_years)"
   ]
  },
  {
   "cell_type": "code",
   "execution_count": null,
   "metadata": {},
   "outputs": [],
   "source": [
    "#creating a list with the input symbol and \"SPY\" to pull in all days the stock market was open\n",
    "symbols = [ticker, \"SPY\"]\n",
    "\n",
    "#reading in the stock data (using adjusted stock prices to account for stock splits)\n",
    "df = yf.download(symbols, start=start_date, end=end_date, auto_adjust=True)\n",
    "\n",
    "df.head()"
   ]
  },
  {
   "cell_type": "code",
   "execution_count": null,
   "metadata": {},
   "outputs": [],
   "source": [
    "#only keeping Adjusted Closing Stock Price for Google\n",
    "prices = df['Close'].filter(items=[ticker], axis=1)\n",
    "\n",
    "#forward and back filling missing prices \n",
    "prices.fillna(method='ffill', inplace=True) #forward-filling missing prices\n",
    "prices.fillna(method='bfill', inplace=True) #back-filling missing prices\n",
    "\n",
    "prices.head()"
   ]
  },
  {
   "cell_type": "code",
   "execution_count": null,
   "metadata": {
    "scrolled": true
   },
   "outputs": [],
   "source": [
    "#plotting the adjusted closing prices\n",
    "prices.plot()\n",
    "plt.title(\"{} Adjusted Closing Prices for last {} Years\".format(ticker,n_years))\n",
    "plt.ylabel(\"Price\")\n",
    "plt.show()"
   ]
  },
  {
   "cell_type": "markdown",
   "metadata": {},
   "source": [
    "## Creating the Features <a id=\"features\">"
   ]
  },
  {
   "cell_type": "code",
   "execution_count": null,
   "metadata": {},
   "outputs": [],
   "source": [
    "#indicator functions\n",
    "def generate_indicators(prices, n):\n",
    "    #generating price Simple Moving Average ratio\n",
    "    price_sma_df = price_sma_ratio(prices, n)\n",
    "\n",
    "    #generating the Bollinger Bands indicator\n",
    "    bb_df = bollinger_bands(prices, n)\n",
    "\n",
    "    #generating the volatility indicator\n",
    "    vol_df = volatility(prices, n)\n",
    "    \n",
    "    #creating features dataframe for training the regressor\n",
    "    indicator_names = [\"Price/SMA\", \"Bollinger Bands\", \"Volatility\"]\n",
    "    indicators_df = price_sma_df.join(bb_df,rsuffix=\"1\") \\\n",
    "                                .join(vol_df,rsuffix=\"2\")\n",
    "    indicators_df.columns = indicator_names\n",
    "\n",
    "    #adding column for the closing price one day prior\n",
    "    indicators_df[\"Previous Price\"] = prices.shift(1).values\n",
    "\n",
    "    #backfilling indicators\n",
    "    indicators_df.fillna(method='bfill', inplace=True)\n",
    "    \n",
    "    return indicators_df"
   ]
  },
  {
   "cell_type": "code",
   "execution_count": null,
   "metadata": {},
   "outputs": [],
   "source": [
    "#splitting the prices into train and test sets\n",
    "ss = StandardScaler()\n",
    "cutoff_idx = int(prices.shape[0] * 0.8)\n",
    "y_train = pd.DataFrame(ss.fit_transform(prices[:cutoff_idx]),index=prices.index[:cutoff_idx], columns=[ticker])\n",
    "y_test = pd.DataFrame(ss.fit_transform(prices[cutoff_idx:]),index=prices.index[cutoff_idx:], columns=[ticker])\n",
    "\n",
    "#generating the indicators\n",
    "n = 10\n",
    "x_train = generate_indicators(y_train, n)\n",
    "x_test = generate_indicators(y_test, n)\n",
    "\n",
    "x_train.head()"
   ]
  },
  {
   "cell_type": "markdown",
   "metadata": {},
   "source": [
    "## Creating the Model <a id=\"model\">"
   ]
  },
  {
   "cell_type": "code",
   "execution_count": null,
   "metadata": {},
   "outputs": [],
   "source": [
    "#initializing the model\n",
    "model = keras.Sequential([\n",
    "    keras.layers.Dense(128, input_dim=x_train.shape[1], activation='relu'), \n",
    "    keras.layers.Dropout(0.3),\n",
    "    keras.layers.Dense(32,activation='relu'),\n",
    "    keras.layers.Dropout(0.15),\n",
    "    keras.layers.Dense(1)   \n",
    "])"
   ]
  },
  {
   "cell_type": "code",
   "execution_count": null,
   "metadata": {},
   "outputs": [],
   "source": [
    "#printing the model summary\n",
    "model.summary()"
   ]
  },
  {
   "cell_type": "code",
   "execution_count": null,
   "metadata": {},
   "outputs": [],
   "source": [
    "#compiling the model\n",
    "model.compile(optimizer='adam', loss='mean_squared_error', metrics=['mean_absolute_error'])"
   ]
  },
  {
   "cell_type": "code",
   "execution_count": null,
   "metadata": {
    "scrolled": true
   },
   "outputs": [],
   "source": [
    "history = model.fit(x_train, y_train, epochs=100)"
   ]
  },
  {
   "cell_type": "code",
   "execution_count": null,
   "metadata": {},
   "outputs": [],
   "source": [
    "model.evaluate(x_test, y_test)"
   ]
  },
  {
   "cell_type": "code",
   "execution_count": null,
   "metadata": {},
   "outputs": [],
   "source": [
    "#plotting the predicted and actual normalized test prices\n",
    "y_pred = model.predict(x_test)\n",
    "plt.plot(y_test.index, y_pred,  label=\"Predicted\")\n",
    "plt.plot(y_test.index, y_test, label=\"Actual\")\n",
    "plt.title(\"Predicted vs Actual Prices\")\n",
    "plt.ylabel(\"Normalized Price\")\n",
    "plt.xlabel(\"Date\")\n",
    "plt.legend()\n",
    "plt.show()"
   ]
  },
  {
   "cell_type": "code",
   "execution_count": null,
   "metadata": {},
   "outputs": [],
   "source": [
    "#calculating the Mean Absolute Error of the non-normalized prices\n",
    "pred_prices = ss.inverse_transform(y_pred)\n",
    "act_prices = prices[cutoff_idx:]\n",
    "abs_diff = np.abs(pred_prices.flatten() - act_prices.values)\n",
    "mae = np.mean(abs_diff)\n",
    "\n",
    "print(\"Mean Absolute Error of Stock Prices: ${:,.2f}\".format(mae))"
   ]
  }
 ],
 "metadata": {
  "kernelspec": {
   "display_name": "Python 3",
   "language": "python",
   "name": "python3"
  },
  "language_info": {
   "codemirror_mode": {
    "name": "ipython",
    "version": 3
   },
   "file_extension": ".py",
   "mimetype": "text/x-python",
   "name": "python",
   "nbconvert_exporter": "python",
   "pygments_lexer": "ipython3",
   "version": "3.11.1"
  },
  "vscode": {
   "interpreter": {
    "hash": "757fb12e7680b236e73a5525bf449d50bfb1647e8e66a790b195a775ce1d4fde"
   }
  }
 },
 "nbformat": 4,
 "nbformat_minor": 2
}
